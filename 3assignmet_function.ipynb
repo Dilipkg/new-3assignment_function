{
 "cells": [
  {
   "cell_type": "markdown",
   "id": "171f4039-de35-4f69-a766-73818518f736",
   "metadata": {},
   "source": [
    "Q1. def keword or define keywold is using creat function."
   ]
  },
  {
   "cell_type": "markdown",
   "id": "6dd2d416-4220-4c9e-a42c-546c517c3569",
   "metadata": {},
   "source": [
    "def odd(lower,upper):\n",
    "        \n",
    "    for i in range(lower, upper+1):\n",
    "        if i%2!=0:\n",
    "            print(i)\n",
    "odd(1,25)"
   ]
  },
  {
   "cell_type": "markdown",
   "id": "6324a183-5247-4273-a84d-6b733bdd22b7",
   "metadata": {},
   "source": [
    "Q2. we can use *args and **kwargs as a argument when we are unsure about the number of argument to pass in the function\n",
    "*args:"
   ]
  },
  {
   "cell_type": "markdown",
   "id": "9bff8e95-fe23-42e7-b3b9-6ed2ef6b626b",
   "metadata": {},
   "source": [
    "def num(*args,b=34):\n",
    "    return args,b\n",
    "num(1,2,3)\n",
    "\n",
    "**kwargs:\n",
    "\n",
    "def dict(**kwargs):\n",
    "    return(kwargs)\n",
    "dict(fse='gsg',wggg='sgsg',gsg='gg')\n"
   ]
  },
  {
   "cell_type": "code",
   "execution_count": null,
   "id": "de7edb9c-aa24-46c5-a084-83d55c25e89f",
   "metadata": {},
   "outputs": [],
   "source": []
  },
  {
   "cell_type": "markdown",
   "id": "77a683e2-6de8-42a4-9073-f1425ec70d13",
   "metadata": {},
   "source": [
    "\n",
    "list [2, 4, 6, 8, 10, 12, 14,16, 18, 20]\n",
    "myit = iter(list)\n",
    "\n",
    "print(next(myit))\n",
    "print(next(myit))\n",
    "print(next(myit))\n",
    "print(next(myit))\n",
    "print(next(myit))"
   ]
  },
  {
   "cell_type": "code",
   "execution_count": null,
   "id": "ec114bd9-39b1-4945-93ba-29939f9bb290",
   "metadata": {},
   "outputs": [],
   "source": []
  },
  {
   "cell_type": "markdown",
   "id": "1a9a6022-31ec-4c80-a6a9-f98d18989793",
   "metadata": {},
   "source": [
    "Q4. python generator function allows you to declare a function that behaves like an iterator providing a faster and easier way to create iterators.\n",
    "the yield keyword will convert an expression that is specified along with it to a generator object and return it to the caller.\n",
    "def test(n):\n",
    "    a,b=0,1\n",
    "    for i in range(n):\n",
    "        yield=a\n",
    "        a,b=b,a+b\n",
    "        \n",
    "for i in test(10):\n",
    "    print(i)\n",
    "        "
   ]
  },
  {
   "cell_type": "markdown",
   "id": "0fd5157b-a228-4222-80af-3b89a7582b34",
   "metadata": {},
   "source": [
    "Q5.\n",
    "def prime_generator():\n",
    "    primes = []\n",
    "    num = 2\n",
    "    while num < 1000:\n",
    "        is_prime = True\n",
    "        for prime in primes:\n",
    "            if num % prime == 0:\n",
    "                is_prime = False\n",
    "                break\n",
    "        if is_prime:\n",
    "            primes.append(num)\n",
    "            yield num\n",
    "        num += 1\n",
    "\n",
    "prime_gen = prime_generator()\n",
    "for _ in range(20):\n",
    "    prime = next(prime_gen)\n",
    "    print(prime)\n",
    "    "
   ]
  },
  {
   "cell_type": "markdown",
   "id": "505fd234-fb90-4ed3-afe0-e33ca9b6f159",
   "metadata": {},
   "source": [
    "Q6.\n",
    "num=10\n",
    "n1,n2=0,1\n",
    "count=0\n",
    "while count<num:\n",
    "    print(n1)\n",
    "    n3=n1+n2\n",
    "    n1=n2\n",
    "    n2=n3\n",
    "    count +=1\n",
    "    "
   ]
  },
  {
   "cell_type": "markdown",
   "id": "f0402a48-9b89-4e36-8ca6-cf91902e60cf",
   "metadata": {},
   "source": [
    "Q7.\n",
    "l=[]\n",
    "for i in \"pwskills\":\n",
    "    l.append(i)\n",
    "print(l)\n"
   ]
  },
  {
   "cell_type": "markdown",
   "id": "30864aeb-c8fa-4559-9a0f-8385291f89a8",
   "metadata": {},
   "source": [
    "Q8.\n",
    "p=str(input(\"enter the number\"))\n",
    "\n",
    "if p == p[::-1]:\n",
    "    print(\"palidrom number\")\n",
    "else:\n",
    "    print(\"not palidrom number\")"
   ]
  },
  {
   "cell_type": "markdown",
   "id": "9c96601c-b587-477c-943c-2bd527ae4b0c",
   "metadata": {},
   "source": [
    "Q9.\n",
    "def odd_number(n):\n",
    "    return [x for x in range(0, n+1) if x%2 != 0]\n",
    "odd_number(100)"
   ]
  },
  {
   "cell_type": "code",
   "execution_count": null,
   "id": "4e3ba2ad-e3cf-4bda-b748-17620f9f3af5",
   "metadata": {},
   "outputs": [],
   "source": []
  }
 ],
 "metadata": {
  "kernelspec": {
   "display_name": "Python 3 (ipykernel)",
   "language": "python",
   "name": "python3"
  },
  "language_info": {
   "codemirror_mode": {
    "name": "ipython",
    "version": 3
   },
   "file_extension": ".py",
   "mimetype": "text/x-python",
   "name": "python",
   "nbconvert_exporter": "python",
   "pygments_lexer": "ipython3",
   "version": "3.10.8"
  }
 },
 "nbformat": 4,
 "nbformat_minor": 5
}
